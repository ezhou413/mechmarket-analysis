{
 "cells": [
  {
   "cell_type": "code",
   "execution_count": 5,
   "metadata": {},
   "outputs": [
    {
     "ename": "ModuleNotFoundError",
     "evalue": "No module named 'requests'",
     "output_type": "error",
     "traceback": [
      "\u001b[1;31m---------------------------------------------------------------------------\u001b[0m",
      "\u001b[1;31mModuleNotFoundError\u001b[0m                       Traceback (most recent call last)",
      "\u001b[1;32mc:\\Users\\Evan\\Documents\\Developer\\mechmarket-analysis\\main.ipynb Cell 1'\u001b[0m in \u001b[0;36m<cell line: 1>\u001b[1;34m()\u001b[0m\n\u001b[1;32m----> <a href='vscode-notebook-cell:/c%3A/Users/Evan/Documents/Developer/mechmarket-analysis/main.ipynb#ch0000000?line=0'>1</a>\u001b[0m \u001b[39mimport\u001b[39;00m \u001b[39mrequests\u001b[39;00m\n\u001b[0;32m      <a href='vscode-notebook-cell:/c%3A/Users/Evan/Documents/Developer/mechmarket-analysis/main.ipynb#ch0000000?line=1'>2</a>\u001b[0m \u001b[39mimport\u001b[39;00m \u001b[39mpandas\u001b[39;00m \u001b[39mas\u001b[39;00m \u001b[39mpd\u001b[39;00m\n\u001b[0;32m      <a href='vscode-notebook-cell:/c%3A/Users/Evan/Documents/Developer/mechmarket-analysis/main.ipynb#ch0000000?line=2'>3</a>\u001b[0m \u001b[39mimport\u001b[39;00m \u001b[39mnumpy\u001b[39;00m \u001b[39mas\u001b[39;00m \u001b[39mnp\u001b[39;00m\n",
      "\u001b[1;31mModuleNotFoundError\u001b[0m: No module named 'requests'"
     ]
    }
   ],
   "source": [
    "import requests\n",
    "import pandas as pd\n",
    "import numpy as np\n",
    "import re"
   ]
  },
  {
   "cell_type": "code",
   "execution_count": 3,
   "metadata": {},
   "outputs": [],
   "source": [
    "with open('keys/client_id.txt', 'r') as f:\n",
    "    CLIENT_ID = f.read()\n",
    "\n",
    "with open('keys/secret_key.txt', 'r') as f:\n",
    "    SECRET_KEY = f.read()"
   ]
  },
  {
   "cell_type": "code",
   "execution_count": 4,
   "metadata": {},
   "outputs": [
    {
     "ename": "NameError",
     "evalue": "name 'requests' is not defined",
     "output_type": "error",
     "traceback": [
      "\u001b[1;31m---------------------------------------------------------------------------\u001b[0m",
      "\u001b[1;31mNameError\u001b[0m                                 Traceback (most recent call last)",
      "\u001b[1;32mc:\\Users\\Evan\\Documents\\Developer\\mechmarket-analysis\\main.ipynb Cell 3'\u001b[0m in \u001b[0;36m<cell line: 1>\u001b[1;34m()\u001b[0m\n\u001b[1;32m----> <a href='vscode-notebook-cell:/c%3A/Users/Evan/Documents/Developer/mechmarket-analysis/main.ipynb#ch0000002?line=0'>1</a>\u001b[0m auth \u001b[39m=\u001b[39m requests\u001b[39m.\u001b[39mauth\u001b[39m.\u001b[39mHTTPBasicAuth(CLIENT_ID, SECRET_KEY)\n",
      "\u001b[1;31mNameError\u001b[0m: name 'requests' is not defined"
     ]
    }
   ],
   "source": [
    "auth = requests.auth.HTTPBasicAuth(CLIENT_ID, SECRET_KEY)"
   ]
  },
  {
   "cell_type": "code",
   "execution_count": null,
   "metadata": {},
   "outputs": [],
   "source": [
    "with open('keys/pw.txt', 'r') as f:\n",
    "    pw = f.read()"
   ]
  },
  {
   "cell_type": "code",
   "execution_count": null,
   "metadata": {},
   "outputs": [],
   "source": [
    "data = {\n",
    "    \"grant_type\": \"password\", \"username\": \"evanz711\", \"password\": pw\n",
    "}"
   ]
  },
  {
   "cell_type": "code",
   "execution_count": null,
   "metadata": {},
   "outputs": [],
   "source": [
    "headers = {'User-Agent': 'mechmarketanalysis/0.0.1'}"
   ]
  },
  {
   "cell_type": "code",
   "execution_count": null,
   "metadata": {},
   "outputs": [],
   "source": [
    "res = requests.post('https://www.reddit.com/api/v1/access_token', \n",
    "                    auth = auth, data = data, headers = headers)"
   ]
  },
  {
   "cell_type": "code",
   "execution_count": null,
   "metadata": {},
   "outputs": [],
   "source": [
    "TOKEN = res.json()['access_token']"
   ]
  },
  {
   "cell_type": "code",
   "execution_count": null,
   "metadata": {},
   "outputs": [],
   "source": [
    "headers['Authorization'] = f'bearer {TOKEN}'"
   ]
  },
  {
   "cell_type": "code",
   "execution_count": null,
   "metadata": {},
   "outputs": [],
   "source": [
    "searchQuery = 'keycult'\n",
    "\n",
    "res = requests.get('https://oauth.reddit.com/r/mechmarket/search.json?q=' + searchQuery, \n",
    "                 headers = headers, params = {'limit': '100'})"
   ]
  },
  {
   "cell_type": "code",
   "execution_count": null,
   "metadata": {},
   "outputs": [],
   "source": [
    "#for post in res.json()['data']['children']:\n",
    "#    print(post['data']['title'])"
   ]
  },
  {
   "cell_type": "code",
   "execution_count": null,
   "metadata": {},
   "outputs": [
    {
     "data": {
      "text/html": [
       "<div>\n",
       "<style scoped>\n",
       "    .dataframe tbody tr th:only-of-type {\n",
       "        vertical-align: middle;\n",
       "    }\n",
       "\n",
       "    .dataframe tbody tr th {\n",
       "        vertical-align: top;\n",
       "    }\n",
       "\n",
       "    .dataframe thead th {\n",
       "        text-align: right;\n",
       "    }\n",
       "</style>\n",
       "<table border=\"1\" class=\"dataframe\">\n",
       "  <thead>\n",
       "    <tr style=\"text-align: right;\">\n",
       "      <th></th>\n",
       "      <th>subreddit</th>\n",
       "      <th>title</th>\n",
       "      <th>contents</th>\n",
       "    </tr>\n",
       "  </thead>\n",
       "  <tbody>\n",
       "    <tr>\n",
       "      <th>0</th>\n",
       "      <td>mechmarket</td>\n",
       "      <td>[US-WA] [H] PayPal $5,000+ [W] A-Stock Keycult...</td>\n",
       "      <td>This is a legitimate offer and I'm happy to pr...</td>\n",
       "    </tr>\n",
       "    <tr>\n",
       "      <th>1</th>\n",
       "      <td>mechmarket</td>\n",
       "      <td>[US-WA] [H] Keycult 1/65 Alu [W] Paypal, Venmo...</td>\n",
       "      <td>[Timestamp](https://imgur.com/a/1Wwcdf2)  \\nBr...</td>\n",
       "    </tr>\n",
       "    <tr>\n",
       "      <th>2</th>\n",
       "      <td>mechmarket</td>\n",
       "      <td>[TW] [H] Keycult No.1 rev2 A-stock Black/Polis...</td>\n",
       "      <td>[Timestamp](https://imgur.com/gallery/pBExQk8)...</td>\n",
       "    </tr>\n",
       "    <tr>\n",
       "      <th>3</th>\n",
       "      <td>mechmarket</td>\n",
       "      <td>[US-CA] [H] Keycult No.2 Rev.1, Black WKL Mont...</td>\n",
       "      <td># SEE NEWEST POST\\n\\n# \\n\\n[~~Keycult No.2 Rev...</td>\n",
       "    </tr>\n",
       "    <tr>\n",
       "      <th>4</th>\n",
       "      <td>mechmarket</td>\n",
       "      <td>[US-FL] [H] Keycult No. 2/65 Ocean Grey, Primu...</td>\n",
       "      <td>Keycult Timestamps: [https://imgur.com/a/Mr4FD...</td>\n",
       "    </tr>\n",
       "    <tr>\n",
       "      <th>...</th>\n",
       "      <td>...</td>\n",
       "      <td>...</td>\n",
       "      <td>...</td>\n",
       "    </tr>\n",
       "    <tr>\n",
       "      <th>95</th>\n",
       "      <td>mechmarket</td>\n",
       "      <td>[US-CA] [H] Nunu Alice, Mode Eighty, HHKB Pro ...</td>\n",
       "      <td>[Timestamp](https://imgur.com/a/AZbIelQ) | [Ar...</td>\n",
       "    </tr>\n",
       "    <tr>\n",
       "      <th>96</th>\n",
       "      <td>mechmarket</td>\n",
       "      <td>[US-WA][H] KeyCult 65% Wrist Rest (PC/Brass), ...</td>\n",
       "      <td>[Timestamp](https://imgur.com/a/Ui07FVb)\\n\\nHe...</td>\n",
       "    </tr>\n",
       "    <tr>\n",
       "      <th>97</th>\n",
       "      <td>mechmarket</td>\n",
       "      <td>[JP] [H] Disarray AMFM Red, Iron180 WKL Græn B...</td>\n",
       "      <td>Time to trim down the collection. Please read ...</td>\n",
       "    </tr>\n",
       "    <tr>\n",
       "      <th>98</th>\n",
       "      <td>mechmarket</td>\n",
       "      <td>[US-CO][H] 60% Keycult Wrist Rest [W] PayPal</td>\n",
       "      <td>[Timestamp](https://imgur.com/a/gQ4rzYt)\\n\\nSi...</td>\n",
       "    </tr>\n",
       "    <tr>\n",
       "      <th>99</th>\n",
       "      <td>mechmarket</td>\n",
       "      <td>[US-NJ] [H] RAMA U-80 Seq2 Soya, Aluvia, Sagit...</td>\n",
       "      <td>Timestamp(s): [https://imgur.com/a/nLter6y](ht...</td>\n",
       "    </tr>\n",
       "  </tbody>\n",
       "</table>\n",
       "<p>100 rows × 3 columns</p>\n",
       "</div>"
      ],
      "text/plain": [
       "     subreddit                                              title  \\\n",
       "0   mechmarket  [US-WA] [H] PayPal $5,000+ [W] A-Stock Keycult...   \n",
       "1   mechmarket  [US-WA] [H] Keycult 1/65 Alu [W] Paypal, Venmo...   \n",
       "2   mechmarket  [TW] [H] Keycult No.1 rev2 A-stock Black/Polis...   \n",
       "3   mechmarket  [US-CA] [H] Keycult No.2 Rev.1, Black WKL Mont...   \n",
       "4   mechmarket  [US-FL] [H] Keycult No. 2/65 Ocean Grey, Primu...   \n",
       "..         ...                                                ...   \n",
       "95  mechmarket  [US-CA] [H] Nunu Alice, Mode Eighty, HHKB Pro ...   \n",
       "96  mechmarket  [US-WA][H] KeyCult 65% Wrist Rest (PC/Brass), ...   \n",
       "97  mechmarket  [JP] [H] Disarray AMFM Red, Iron180 WKL Græn B...   \n",
       "98  mechmarket       [US-CO][H] 60% Keycult Wrist Rest [W] PayPal   \n",
       "99  mechmarket  [US-NJ] [H] RAMA U-80 Seq2 Soya, Aluvia, Sagit...   \n",
       "\n",
       "                                             contents  \n",
       "0   This is a legitimate offer and I'm happy to pr...  \n",
       "1   [Timestamp](https://imgur.com/a/1Wwcdf2)  \\nBr...  \n",
       "2   [Timestamp](https://imgur.com/gallery/pBExQk8)...  \n",
       "3   # SEE NEWEST POST\\n\\n# \\n\\n[~~Keycult No.2 Rev...  \n",
       "4   Keycult Timestamps: [https://imgur.com/a/Mr4FD...  \n",
       "..                                                ...  \n",
       "95  [Timestamp](https://imgur.com/a/AZbIelQ) | [Ar...  \n",
       "96  [Timestamp](https://imgur.com/a/Ui07FVb)\\n\\nHe...  \n",
       "97  Time to trim down the collection. Please read ...  \n",
       "98  [Timestamp](https://imgur.com/a/gQ4rzYt)\\n\\nSi...  \n",
       "99  Timestamp(s): [https://imgur.com/a/nLter6y](ht...  \n",
       "\n",
       "[100 rows x 3 columns]"
      ]
     },
     "execution_count": 85,
     "metadata": {},
     "output_type": "execute_result"
    }
   ],
   "source": [
    "subreddit = np.array([])\n",
    "title = np.array([])\n",
    "contents = np.array([])\n",
    "\n",
    "for post in res.json()['data']['children']:\n",
    "    subreddit = np.append(subreddit, post['data']['subreddit'])\n",
    "    title = np.append(title, post['data']['title'])\n",
    "    contents = np.append(contents, post['data']['selftext'])\n",
    "    \n",
    "searchPosts = pd.DataFrame().assign(\n",
    "    subreddit = subreddit,\n",
    "    title = title,\n",
    "    contents = contents\n",
    ")\n",
    "searchPosts"
   ]
  },
  {
   "cell_type": "code",
   "execution_count": null,
   "metadata": {},
   "outputs": [
    {
     "ename": "NameError",
     "evalue": "name 're' is not defined",
     "output_type": "error",
     "traceback": [
      "\u001b[1;31m---------------------------------------------------------------------------\u001b[0m",
      "\u001b[1;31mNameError\u001b[0m                                 Traceback (most recent call last)",
      "\u001b[1;32mc:\\Users\\Evan\\Documents\\Developer\\mechmarket-analysis\\main.ipynb Cell 13'\u001b[0m in \u001b[0;36m<cell line: 1>\u001b[1;34m()\u001b[0m\n\u001b[1;32m----> <a href='vscode-notebook-cell:/c%3A/Users/Evan/Documents/Developer/mechmarket-analysis/main.ipynb#ch0000012?line=0'>1</a>\u001b[0m \u001b[39mprint\u001b[39m(re\u001b[39m.\u001b[39mfindall(\u001b[39mr\u001b[39m\u001b[39m'\u001b[39m\u001b[39m(https?://\u001b[39m\u001b[39m\\\u001b[39m\u001b[39mS+)\u001b[39m\u001b[39m'\u001b[39m, searchPosts\u001b[39m.\u001b[39mget(\u001b[39m'\u001b[39m\u001b[39mcontents\u001b[39m\u001b[39m'\u001b[39m)\u001b[39m.\u001b[39miloc[\u001b[39m1\u001b[39m]))\n\u001b[0;32m      <a href='vscode-notebook-cell:/c%3A/Users/Evan/Documents/Developer/mechmarket-analysis/main.ipynb#ch0000012?line=1'>2</a>\u001b[0m \u001b[39mprint\u001b[39m(re\u001b[39m.\u001b[39mfindall(\u001b[39m'\u001b[39m\u001b[39m^/[$/]\u001b[39m\u001b[39m'\u001b[39m, searchPosts\u001b[39m.\u001b[39mget(\u001b[39m'\u001b[39m\u001b[39mtitle\u001b[39m\u001b[39m'\u001b[39m)\u001b[39m.\u001b[39miloc[\u001b[39m1\u001b[39m]))\n",
      "\u001b[1;31mNameError\u001b[0m: name 're' is not defined"
     ]
    }
   ],
   "source": [
    "print(re.findall(r'(https?://\\S+)', searchPosts.get('contents').iloc[1]))\n",
    "print(re.findall('^/[$/]', searchPosts.get('title').iloc[1]))"
   ]
  },
  {
   "cell_type": "code",
   "execution_count": null,
   "metadata": {},
   "outputs": [],
   "source": []
  }
 ],
 "metadata": {
  "kernelspec": {
   "display_name": "Python 3.10.4 64-bit (windows store)",
   "language": "python",
   "name": "python3"
  },
  "language_info": {
   "codemirror_mode": {
    "name": "ipython",
    "version": 3
   },
   "file_extension": ".py",
   "mimetype": "text/x-python",
   "name": "python",
   "nbconvert_exporter": "python",
   "pygments_lexer": "ipython3",
   "version": "3.10.4"
  },
  "orig_nbformat": 4,
  "vscode": {
   "interpreter": {
    "hash": "b21cf9e9e381dc36c8d4bf30c283bd9f4ee2c5e3fc77b1cb4f6db7157cbc1432"
   }
  }
 },
 "nbformat": 4,
 "nbformat_minor": 2
}
